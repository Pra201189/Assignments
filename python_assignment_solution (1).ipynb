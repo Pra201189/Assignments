{
  "cells": [
    {
      "cell_type": "markdown",
      "id": "eaef7d3f",
      "metadata": {
        "id": "eaef7d3f"
      },
      "source": [
        "# Python Programming Assignment\n",
        "---\n",
        "This notebook contains solutions to all five exercises with explanations and code."
      ]
    },
    {
      "cell_type": "markdown",
      "id": "05ba446f",
      "metadata": {
        "id": "05ba446f"
      },
      "source": [
        "## Exercise 1: Prime Numbers\n",
        "Write a Python program that checks whether a given number is prime or not."
      ]
    },
    {
      "cell_type": "code",
      "execution_count": 1,
      "id": "21c6fd3f",
      "metadata": {
        "colab": {
          "base_uri": "https://localhost:8080/"
        },
        "id": "21c6fd3f",
        "outputId": "b55215f5-37ca-47ee-f4df-9b7475e02705"
      },
      "outputs": [
        {
          "output_type": "stream",
          "name": "stdout",
          "text": [
            "Is 29 prime? True\n",
            "Is 30 prime? False\n"
          ]
        }
      ],
      "source": [
        "\n",
        "def is_prime(n):\n",
        "    \"\"\"Check if a number is prime.\"\"\"\n",
        "    if n <= 1:\n",
        "        return False\n",
        "    for i in range(2, int(n**0.5) + 1):\n",
        "        if n % i == 0:\n",
        "            return False\n",
        "    return True\n",
        "\n",
        "# Test example\n",
        "print(\"Is 29 prime?\", is_prime(29))\n",
        "print(\"Is 30 prime?\", is_prime(30))\n"
      ]
    },
    {
      "cell_type": "markdown",
      "id": "36fa0af0",
      "metadata": {
        "id": "36fa0af0"
      },
      "source": [
        "## Exercise 2: Product of Random Numbers\n",
        "Generate two random numbers and ask user to enter the product."
      ]
    },
    {
      "cell_type": "code",
      "execution_count": 2,
      "id": "1eec706b",
      "metadata": {
        "colab": {
          "base_uri": "https://localhost:8080/"
        },
        "id": "1eec706b",
        "outputId": "29eccda8-9e01-44ab-a11a-a1d0c96829dc"
      },
      "outputs": [
        {
          "output_type": "stream",
          "name": "stdout",
          "text": [
            "Correct! 3 * 1 = 3\n"
          ]
        }
      ],
      "source": [
        "\n",
        "import random\n",
        "\n",
        "def product_quiz():\n",
        "    \"\"\"Generate two random numbers and quiz user on their product.\"\"\"\n",
        "    num1 = random.randint(1, 10)\n",
        "    num2 = random.randint(1, 10)\n",
        "    product = num1 * num2\n",
        "\n",
        "    # In actual use, take input: user_answer = int(input(f\"What is {num1} * {num2}? \"))\n",
        "    # For demonstration, we'll simulate a correct input:\n",
        "    user_answer = product\n",
        "\n",
        "    if user_answer == product:\n",
        "        print(f\"Correct! {num1} * {num2} = {product}\")\n",
        "    else:\n",
        "        print(f\"Incorrect. The correct answer is {product}\")\n",
        "\n",
        "product_quiz()\n"
      ]
    },
    {
      "cell_type": "markdown",
      "id": "67b6de7e",
      "metadata": {
        "id": "67b6de7e"
      },
      "source": [
        "## Exercise 3: Squares of Even Numbers\n",
        "Print squares of all even numbers from 100 to 200."
      ]
    },
    {
      "cell_type": "code",
      "execution_count": 3,
      "id": "47da7c0c",
      "metadata": {
        "colab": {
          "base_uri": "https://localhost:8080/"
        },
        "id": "47da7c0c",
        "outputId": "347e5fab-d670-478c-896d-211a306bcb4a"
      },
      "outputs": [
        {
          "output_type": "stream",
          "name": "stdout",
          "text": [
            "Sample of even squares (first 10):\n",
            "100 : 10000\n",
            "102 : 10404\n",
            "104 : 10816\n",
            "106 : 11236\n",
            "108 : 11664\n",
            "110 : 12100\n",
            "112 : 12544\n",
            "114 : 12996\n",
            "116 : 13456\n",
            "118 : 13924\n"
          ]
        }
      ],
      "source": [
        "\n",
        "def squares_even():\n",
        "    \"\"\"Return squares of even numbers from 100 to 200.\"\"\"\n",
        "    return {i: i**2 for i in range(100, 201) if i % 2 == 0}\n",
        "\n",
        "even_squares = squares_even()\n",
        "print(\"Sample of even squares (first 10):\")\n",
        "for k, v in list(even_squares.items())[:10]:\n",
        "    print(k, \":\", v)\n"
      ]
    },
    {
      "cell_type": "markdown",
      "id": "05b32895",
      "metadata": {
        "id": "05b32895"
      },
      "source": [
        "## Exercise 4: Word Counter\n",
        "Count the number of words in a given text."
      ]
    },
    {
      "cell_type": "code",
      "execution_count": 4,
      "id": "17c15d37",
      "metadata": {
        "colab": {
          "base_uri": "https://localhost:8080/"
        },
        "id": "17c15d37",
        "outputId": "e3595b95-dcde-40ff-8908-93bdf5e743e6"
      },
      "outputs": [
        {
          "output_type": "stream",
          "name": "stdout",
          "text": [
            "{'this': 2, 'is': 1, 'a': 1, 'sample': 1, 'text': 2, 'will': 1, 'be': 1, 'used': 1, 'to': 1, 'demonstrate': 1, 'the': 1, 'word': 1, 'counter': 1}\n"
          ]
        }
      ],
      "source": [
        "\n",
        "def word_counter(text):\n",
        "    \"\"\"Count frequency of words in a text.\"\"\"\n",
        "    words = text.split()\n",
        "    word_count = {}\n",
        "    for word in words:\n",
        "        word = word.strip(\".,!?\").lower()\n",
        "        word_count[word] = word_count.get(word, 0) + 1\n",
        "    return word_count\n",
        "\n",
        "input_text = \"This is a sample text. This text will be used to demonstrate the word counter.\"\n",
        "print(word_counter(input_text))\n"
      ]
    },
    {
      "cell_type": "markdown",
      "id": "92ee2f00",
      "metadata": {
        "id": "92ee2f00"
      },
      "source": [
        "## Exercise 5: Check for Palindrome\n",
        "Write a function to check if a string is a palindrome."
      ]
    },
    {
      "cell_type": "code",
      "execution_count": 5,
      "id": "85584078",
      "metadata": {
        "colab": {
          "base_uri": "https://localhost:8080/"
        },
        "id": "85584078",
        "outputId": "1b802d4d-246c-49ca-a997-4ed1ef4512f7"
      },
      "outputs": [
        {
          "output_type": "stream",
          "name": "stdout",
          "text": [
            "Is 'racecar' a palindrome? True\n",
            "Is 'hello' a palindrome? False\n"
          ]
        }
      ],
      "source": [
        "\n",
        "import re\n",
        "\n",
        "def is_palindrome(s):\n",
        "    \"\"\"Check if a string is a palindrome, ignoring punctuation and case.\"\"\"\n",
        "    cleaned = re.sub(r'[^A-Za-z0-9]', '', s).lower()\n",
        "    return cleaned == cleaned[::-1]\n",
        "\n",
        "print(\"Is 'racecar' a palindrome?\", is_palindrome(\"racecar\"))\n",
        "print(\"Is 'hello' a palindrome?\", is_palindrome(\"hello\"))\n"
      ]
    }
  ],
  "metadata": {
    "colab": {
      "provenance": []
    },
    "language_info": {
      "name": "python"
    },
    "kernelspec": {
      "name": "python3",
      "display_name": "Python 3"
    }
  },
  "nbformat": 4,
  "nbformat_minor": 5
}